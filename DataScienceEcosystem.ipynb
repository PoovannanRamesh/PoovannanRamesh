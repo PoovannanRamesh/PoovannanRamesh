{
 "cells": [
  {
   "cell_type": "markdown",
   "id": "da56425d-21da-4bf9-9260-6183022b9c8b",
   "metadata": {
    "tags": []
   },
   "source": [
    "# Data Science Tools and Ecosystem"
   ]
  },
  {
   "cell_type": "markdown",
   "id": "bfe8085c-ea78-4c31-89e5-ef2997577256",
   "metadata": {},
   "source": [
    "In this notebook, Data Science Tools and Ecosystem are summarized.\n",
    "\n",
    "* Python\n",
    "* R\n",
    "* SQL\n",
    "* Julia"
   ]
  },
  {
   "cell_type": "markdown",
   "id": "200cabdf-a006-4646-9a6c-ce3a034dfcf1",
   "metadata": {},
   "source": [
    "# Some of the commonly used libraries used by Data Scientists include:\n",
    "\n",
    "* NumPy\n",
    "* pandas\n",
    "* Matplotlib\n",
    "* PyTorch"
   ]
  },
  {
   "cell_type": "markdown",
   "id": "99f68b81-90be-4fdb-a137-98e7ef51f642",
   "metadata": {},
   "source": [
    "| Data Science Tools |\n",
    "|--------------------|\n",
    "| Jupyter            |\n",
    "| Python             |\n",
    "| R                  |\n",
    "| SQL                |\n",
    "| Git and GitHub     |\n",
    "| Power Bi           |\n"
   ]
  },
  {
   "cell_type": "markdown",
   "id": "07e2d2a5-8d0a-4037-a4b9-56a952b34d66",
   "metadata": {},
   "source": [
    "# Below are a few examples of evaluating arithmetic expressions in Python"
   ]
  },
  {
   "cell_type": "markdown",
   "id": "ce25f5ce-127b-498e-b7a4-c78abc2d43ad",
   "metadata": {},
   "source": [
    " This a simple arithmetic expression to mutiply then add integers"
   ]
  },
  {
   "cell_type": "code",
   "execution_count": 2,
   "id": "b2aacb98-0dfe-47e6-a816-1124f0a6068f",
   "metadata": {
    "tags": []
   },
   "outputs": [
    {
     "data": {
      "text/plain": [
       "17"
      ]
     },
     "execution_count": 2,
     "metadata": {},
     "output_type": "execute_result"
    }
   ],
   "source": [
    "(3*4)+5"
   ]
  },
  {
   "cell_type": "markdown",
   "id": "78880f42-5893-4ddb-9c79-6ab5bd6e8e9a",
   "metadata": {},
   "source": [
    " This will convert 200 minutes to hours by diving by 60"
   ]
  },
  {
   "cell_type": "code",
   "execution_count": 3,
   "id": "46f76211-77a9-4aba-98c3-c25d8a5de451",
   "metadata": {
    "tags": []
   },
   "outputs": [
    {
     "data": {
      "text/plain": [
       "3.3333333333333335"
      ]
     },
     "execution_count": 3,
     "metadata": {},
     "output_type": "execute_result"
    }
   ],
   "source": [
    "200/60"
   ]
  },
  {
   "cell_type": "markdown",
   "id": "1068cba8-c10c-4115-8a81-4bcd7350f545",
   "metadata": {},
   "source": [
    "# Objectives:\n",
    "\n",
    "List popular languages for Data Science\n",
    "\n",
    "* Python\n",
    "* R\n",
    "* SQL\n",
    "* Julia"
   ]
  },
  {
   "cell_type": "markdown",
   "id": "9e6b89af-86a3-44bb-9ce2-ed3edfca10fb",
   "metadata": {},
   "source": [
    "## Author\n",
    "Poovannan R"
   ]
  },
  {
   "cell_type": "code",
   "execution_count": null,
   "id": "3a3ae014-3f1e-4ee9-85e3-08ebb660900e",
   "metadata": {},
   "outputs": [],
   "source": []
  }
 ],
 "metadata": {
  "kernelspec": {
   "display_name": "Python",
   "language": "python",
   "name": "conda-env-python-py"
  },
  "language_info": {
   "codemirror_mode": {
    "name": "ipython",
    "version": 3
   },
   "file_extension": ".py",
   "mimetype": "text/x-python",
   "name": "python",
   "nbconvert_exporter": "python",
   "pygments_lexer": "ipython3",
   "version": "3.7.12"
  }
 },
 "nbformat": 4,
 "nbformat_minor": 5
}
